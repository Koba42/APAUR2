{
 "cells": [
  {
   "cell_type": "markdown",
   "id": "0c5b84a3-ba47-4985-861a-6229c48fe805",
   "metadata": {},
   "source": [
    "# Librerias Utilizadas"
   ]
  },
  {
   "cell_type": "code",
   "execution_count": 1,
   "id": "679096d2",
   "metadata": {},
   "outputs": [],
   "source": [
    "import random\n",
    "import pandas as pd\n",
    "import numpy as np\n",
    "import matplotlib.pyplot as plt\n",
    "import seaborn as sns\n",
    "import re\n",
    "import plotly.express as px\n",
    "import plotly.graph_objects as go\n",
    "import matplotlib.patches as mpatches\n",
    "import statistics\n",
    "import emoji\n",
    "\n",
    "from sklearn import metrics\n",
    "from sklearn.feature_extraction.text import TfidfVectorizer, CountVectorizer \n",
    "from nltk.tokenize import word_tokenize\n",
    "from sklearn.cluster import DBSCAN\n",
    "from sklearn.cluster import KMeans\n",
    "from sklearn.datasets import make_blobs\n",
    "from sklearn.neighbors import NearestNeighbors\n",
    "from sklearn.preprocessing import StandardScaler\n",
    "from sklearn.metrics import silhouette_samples, silhouette_score\n",
    "from sklearn.mixture import GaussianMixture\n",
    "from sklearn.decomposition import PCA\n",
    "from sklearn.manifold import TSNE\n",
    "from nltk.corpus import stopwords\n",
    "from gensim.models import Word2Vec\n",
    "from string import punctuation\n",
    "from nltk.tokenize import sent_tokenize, word_tokenize\n",
    "from emot.emo_unicode import UNICODE_EMOJI\n",
    "from emot.emo_unicode import EMOTICONS_EMO\n",
    "\n",
    "from collections import Counter\n",
    "from itertools import groupby\n",
    "from mpl_toolkits.mplot3d import Axes3D\n",
    "from scipy import stats"
   ]
  },
  {
   "cell_type": "markdown",
   "id": "d21963d5-a2f7-4004-ac17-fc3b7813407d",
   "metadata": {},
   "source": [
    "# Funciones Utilizadas"
   ]
  },
  {
   "cell_type": "code",
   "execution_count": 2,
   "id": "907d0466-68d4-4436-8e0d-e2bd26182910",
   "metadata": {},
   "outputs": [],
   "source": [
    "def stopwords(text):\n",
    "    return \" \".join([word for word in str(text).split() if word not in STOPWORDS])\n",
    "\n",
    "def Plot2D (samples_2D, title, axes = {'x': 'x', 'y': 'y'}):\n",
    "\n",
    "  \"\"\"\n",
    "  samples_2D (numpy.ndarray): array tipo embedding cuyo\n",
    "        shape es (num_muestras, 2) ; 2 por las dos coordenadas\n",
    "\n",
    "  title(string): titulo de la figura que se utiliza para el plot\n",
    "  \"\"\"\n",
    "\n",
    "  df_samples_2D = pd.DataFrame(data=samples_2D, columns=[axes['x'], axes['y']])\n",
    "\n",
    "  sns.set(font_scale=3)\n",
    "  sns.set(rc={'figure.figsize':(10,10)})\n",
    "  sns.relplot(data=df_samples_2D,\n",
    "              x=axes['x'],\n",
    "              y=axes['y'],\n",
    "              height=10, legend=\"full\", palette=\"bright\")\n",
    "\n",
    "  set_size_letters(title,\n",
    "                   axes['x'],\n",
    "                   axes['y'],\n",
    "                   active_legend = False)\n",
    "  plt.axis('equal')\n",
    "\n",
    "def Plot2D_WithLabels (samples_2D, labels, title, axes = {'x': 'x', 'y': 'y'}, palette=\"bright\", centroids_2D=None):\n",
    "\n",
    "  \"\"\"\n",
    "  samples_2D (numpy.ndarray): array tipo embedding cuyo\n",
    "        shape es (num_muestras, 2) ; 2 por las dos coordenadas\n",
    "\n",
    "  labels (array): etiqueta perteneciente a cada muestra.\n",
    "\n",
    "  title(string): titulo de la figura que se utiliza para el plot\n",
    "  \"\"\"\n",
    "\n",
    "  # First we create the dataframe\n",
    "  df_samples_2D_labeled = pd.DataFrame(data=samples_2D, columns=[axes['x'], axes['y']])\n",
    "\n",
    "  # Then we add the labels column\n",
    "  df_samples_2D_labeled['label'] = labels.tolist()\n",
    "\n",
    "  if centroids_2D is not None:\n",
    "    labels_centroid_aux = np.arange(len(centroids_2D), dtype=int)\n",
    "    df_centroids_2D_labeled = pd.DataFrame(data=centroids_2D, columns=[axes['x'], axes['y']])\n",
    "    df_centroids_2D_labeled['label'] = labels_centroid_aux.tolist()\n",
    "\n",
    "  sns.set(font_scale=3)\n",
    "  sns.set(rc={'figure.figsize':(10,10)})\n",
    "  sns.relplot(data=df_samples_2D_labeled,\n",
    "              x=axes['x'],\n",
    "              y=axes['y'],\n",
    "              hue=\"label\", height=10, legend=\"full\", palette=palette)\n",
    "\n",
    "  if centroids_2D is not None:\n",
    "    # First we plot the centroids\n",
    "    sns.scatterplot(data=df_centroids_2D_labeled,\n",
    "              x=axes['x'],\n",
    "              y=axes['y'],\n",
    "              hue=\"label\",\n",
    "              legend=False, palette=palette, s=100)\n",
    "\n",
    "    # Then we plot their labels\n",
    "    plot_2D_centroid_labels(df_centroids_2D_labeled, plt.gca())\n",
    "\n",
    "  set_size_letters(title,\n",
    "                   axes['x'],\n",
    "                   axes['y'],\n",
    "                   active_legend = False)\n",
    "  plt.axis('equal')\n",
    "\n",
    "def plot_2D_centroid_labels(df_centroids, ax):\n",
    "    for index, row in df_centroids.iterrows():\n",
    "      ax.text(row[0]+.5, row[1], 'C'+str(row[2].astype(int)), fontsize = 20, color='black', weight='semibold')\n",
    "def set_size_letters(title, x_name, y_name, title_size = 20, x_size = 18, y_size = 18, active_legend = True, legend_size = 14):\n",
    "\n",
    "  \"\"\"\n",
    "  Parameters:\n",
    "    title (string): titulo del plot a representar\n",
    "\n",
    "    x_name (string): nombre del eje x\n",
    "\n",
    "    y_name (string): nombre del eje y\n",
    "\n",
    "    active_legend (bool): indica si mostramos la leyenda o no. Por defecto True\n",
    "\n",
    "    x_size, y_size, legend_size: tamaño de fuente de eje x, y, leyenda\n",
    "\n",
    "  \"\"\"\n",
    "\n",
    "  plt.title(title, fontsize=title_size)\n",
    "  plt.xlabel(x_name, fontsize=x_size)\n",
    "  plt.ylabel(y_name, fontsize=y_size)\n",
    "  if (active_legend == True):\n",
    "    plt.legend(fontsize=legend_size)\n",
    "\n",
    "def Plot3D_WithLabels (samples_3D, labels, title, axes = {'x': 'x', 'y': 'y', 'z': 'z'}, centroids_3D=None):\n",
    "\n",
    "  \"\"\"\n",
    "  samples_3D (numpy.ndarray): array tipo embedding cuyo\n",
    "        shape es (num_muestras, 3) ; 3 por las tres coordenadas\n",
    "\n",
    "  labels (array): etiqueta perteneciente a cada muestra.\n",
    "\n",
    "  title(string): titulo de la figura que se utiliza para el plot\n",
    "  \"\"\"\n",
    "\n",
    "  # First we create the dataframe\n",
    "  df_samples_3D_labeled = pd.DataFrame(data=samples_3D, columns=[axes['x'], axes['y'], axes['z']])\n",
    "\n",
    "  # Then we add the labels column\n",
    "  df_samples_3D_labeled['label'] = labels.tolist()\n",
    "  df_samples_3D_labeled['label'] = df_samples_3D_labeled[\"label\"].astype(str)\n",
    "\n",
    "  if centroids_3D is not None:\n",
    "    # Same applies for centroids when these are provided as an argument\n",
    "    labels_centroid_aux = np.arange(len(centroids_3D), dtype=int)\n",
    "    df_centroids_3D_labeled = pd.DataFrame(data=centroids_3D, columns=[axes['x'], axes['y'], axes['z']])\n",
    "    df_centroids_3D_labeled['label'] = labels_centroid_aux.tolist()\n",
    "\n",
    "    # We create an additional column with the dot size used for each type of sample\n",
    "    size_no_centroid = np.ones(len(samples_3D)) * 10 # for regular samples\n",
    "    size_centroid = np.ones(len(centroids_3D)) * 50 # for centroids\n",
    "    size_col = np.append(size_no_centroid, size_centroid) # new col to be added to the dataframe\n",
    "\n",
    "    # We also create another additional column with the labels for each type of sample\n",
    "    no_es_centroide_aux = [' '] * len(samples_3D) # empty label for regular samples\n",
    "    es_centroide_aux = []\n",
    "    for i in range(len(centroids_3D)):\n",
    "      es_centroide_aux.append('C%d' % i) # Ci label for centroid i\n",
    "    centroid_col = no_es_centroide_aux + es_centroide_aux # new col to be added to the dataframe\n",
    "\n",
    "    # Next we concatenate both dataframes: first, regular samples, then, centroids\n",
    "    df_samples_and_centroids = pd.concat([df_samples_3D_labeled, df_centroids_3D_labeled], ignore_index=True)\n",
    "      \n",
    "\n",
    "    # We add the new column with the labels distinguishing regular samples from centroids\n",
    "    df_samples_and_centroids['centroid'] = centroid_col\n",
    "\n",
    "    # New column is re-casted as a string column\n",
    "    df_samples_and_centroids['centroid'] = df_samples_and_centroids['centroid'].astype(str)\n",
    "\n",
    "    # We add the new column with the corresponding size for both regular samples and centroids\n",
    "    df_samples_and_centroids['size'] = size_col\n",
    "\n",
    "    # We ensure that the 'label' column is numeric since we will sort the dataframe upon this one\n",
    "    df_samples_and_centroids['label'] = pd.to_numeric(df_samples_and_centroids['label'])\n",
    "\n",
    "    # We finally sort the dataframe by the 'label' column in ascending order\n",
    "    df_samples_and_centroids_sorted = df_samples_and_centroids.sort_values(by=['label'], ascending=True)\n",
    "\n",
    "    # And plot both the samples and their corresponding centroids\n",
    "    fig = px.scatter_3d(df_samples_and_centroids_sorted, x=axes['x'], y=axes['y'], z=axes['z'], text='centroid', size='size', color='label')\n",
    "  else:\n",
    "    # We ensure that the 'label' column is numeric since we will sort the dataframe upon this one\n",
    "    df_samples_3D_labeled['label'] = pd.to_numeric(df_samples_3D_labeled['label'])\n",
    "\n",
    "    # We finally sort the dataframe by the 'label' column in ascending order\n",
    "    df_samples_and_centroids_sorted = df_samples_3D_labeled.sort_values(by=['label'], ascending=True)\n",
    "\n",
    "    fig = px.scatter_3d(df_samples_and_centroids_sorted, x=axes['x'], y=axes['y'], z=axes['z'], color='label', size=np.ones(len(samples_3D))) #, color_continuous_scale='delta')\n",
    "\n",
    "  fig.update_traces(textposition='top center')\n",
    "  fig.update_layout(scene_aspectmode='data')\n",
    "  fig.update_layout(uniformtext_minsize=60)\n",
    "\n",
    "  fig.update_layout(title_font_size=20,\n",
    "                    title={\n",
    "                    'text': title,\n",
    "                    'y': 0.9,\n",
    "                    'x': 0.05,\n",
    "                    'xanchor': 'left',\n",
    "                    'yanchor': 'top'})\n",
    "  # tight layout\n",
    "  fig.update_layout(autosize = True, margin = dict(l=50, r=0, b=10, t=30))\n",
    "  fig.show()\n",
    "\n",
    "def ApplyDBScanToData (samples, epsilon, min_samples = 30):\n",
    "\n",
    "  \"\"\"\n",
    "  Parameters:\n",
    "\n",
    "    samples (numpy.ndarray): array tipo embedding cuyo\n",
    "        shape es (n_ejemplo,n_muestras_por_ejemplo)\n",
    "\n",
    "    epsilon: int con el valor de epsilon (distancia mínima entre elementos\n",
    "        para formar un cluster)\n",
    "\n",
    "    min_samples (int): numero minimo de muestras para generar un cluster\n",
    "\n",
    "    include_noise (bool): permite seleccionar si se quiere incluir el cluster\n",
    "        de ruido en el cálculo de la silueta o no. Por defecto no se incluye.\n",
    "        Se debe incluir cuando únicamente se detecta un cluster, para poder\n",
    "        realizar la evaluación.\n",
    "\n",
    "  Return:\n",
    "\n",
    "    labels: lista con el cluster al que pertenece cada ejemplo de data. Cluster\n",
    "        -1 significa ruido.\n",
    "  \"\"\"\n",
    "\n",
    "\n",
    "  db = DBSCAN(eps=epsilon, min_samples=min_samples).fit(samples)\n",
    "\n",
    "  core_samples_mask = np.zeros_like(db.labels_, dtype=bool)\n",
    "  core_samples_mask[db.core_sample_indices_] = True\n",
    "  labels = db.labels_\n",
    "\n",
    "  # Number of clusters in labels, ignoring noise if present.\n",
    "  n_clusters_ = len(set(labels)) - (1 if -1 in labels else 0)\n",
    "  n_noise_ = list(labels).count(-1)\n",
    "\n",
    "  print(f\"\\nTest for epsilon = {epsilon}\")\n",
    "  print('Estimated number of clusters: %d' % n_clusters_)\n",
    "  print('Estimated number of noise points: %d' % n_noise_)\n",
    "  print(\"Silhouette Coefficient: %0.3f\" % metrics.silhouette_score(samples, labels))\n",
    "\n",
    "\n",
    "  return labels\n",
    "\n",
    "def CreateFeatureVectors(data):\n",
    "  num_nodes = 63\n",
    "  num_rows, num_cols = data.shape # shape: devuelve las dimensiones de nuestro array (matriz en este caso) numpy\n",
    "  num_measures_per_node = num_cols # 3 (i.e. temperatura, humedad y presión)\n",
    "  num_samples = int(num_rows / num_nodes)\n",
    "\n",
    "  samples = np.zeros((num_samples, num_nodes*num_cols)) # para crear una nueva matriz \"samples\" rellena de ceros y de dimensiones (4070, 189)\n",
    "\n",
    "  # recordemos que \"data\" es una matriz (256410, 3)\n",
    "  n_row = 0 # hasta num_samples\n",
    "  n_col = 0 # hasta num_nodes*num_cols = 189\n",
    "\n",
    "  for i in range(num_rows): # recorremos todas las filas de la matriz original (256410, 3)\n",
    "    for elem in data[i]: # añadimos a la fila los valores de cada nodo de 3 en 3 hasta agotar los del timestamp específico\n",
    "      if (n_col == num_nodes*num_measures_per_node): # si llenamos la fila, pasamos a la siguiente (siguiente timestamp)\n",
    "        n_col = 0\n",
    "        n_row += 1 # siguiente fila\n",
    "      samples[n_row, n_col] = elem\n",
    "      n_col += 1\n",
    "\n",
    "  return samples\n",
    "\n",
    "def PlotDistancesToKnearestNeighbor(data_vector, K):\n",
    "\n",
    "  \"\"\"\n",
    "  Parameters:\n",
    "    data_vector (numpy.ndarray): array tipo embedding cuyo\n",
    "        shape es (n_ejemplo,n_muestras_por_ejemplo)\n",
    "\n",
    "    k: posición del k-esimo vecino más cercano\n",
    "\n",
    "  \"\"\"\n",
    "\n",
    "  nbrs = NearestNeighbors(n_neighbors=K).fit(data_vector)\n",
    "  distances, indices = nbrs.kneighbors(data_vector)\n",
    "  distances = np.sort(distances, axis=0)\n",
    "  distances = distances[:,K-1]\n",
    "  plt.figure(figsize=(10,8))\n",
    "  set_size_letters(f\"Distancias al K-vecino más cercano (K={K})\",\n",
    "                   f\"Points sorted according to distance of the {K}-th nearest neighbor\",\n",
    "                   f\"{K}-th nearest neighbor distance\")\n",
    "  plt.plot(distances)\n",
    "\n",
    "def preprocess_text(text):\n",
    "    text = text.lower()  # Lowercase text\n",
    "    text = re.sub(r\"https?://\\S+\", \"\", text)\n",
    "    text = re.sub(r\"\\b[0-9]+\\b\\s*\", \"\", text)\n",
    "    text = re.sub(f\"[{re.escape(punctuation)}]\", \"\", text)  # Remove punctuation\n",
    "    text = \" \".join(text.split())  # Remove extra spaces, tabs, and new lines\n",
    "    return text"
   ]
  },
  {
   "cell_type": "markdown",
   "id": "e5ed269a-e337-4ee2-be20-e99689582edb",
   "metadata": {},
   "source": [
    "# Texto Tweets"
   ]
  },
  {
   "cell_type": "code",
   "execution_count": null,
   "id": "fbdfe107",
   "metadata": {},
   "outputs": [],
   "source": [
    "dataset1 = pd.read_csv(\"APAUtweets.txt\", header=None, delimiter = \"\\t\", encoding = 'utf8')\n",
    "dataset1.set_index(0, inplace = True)\n",
    "dataset1.rename(columns={1: \"text\"}, inplace = True)\n",
    "dataset1"
   ]
  },
  {
   "cell_type": "markdown",
   "id": "8709d6fb-d611-4b0e-97a1-53683e9c9f21",
   "metadata": {},
   "source": [
    "## Preprocesado"
   ]
  },
  {
   "cell_type": "markdown",
   "id": "0318096f-2cfe-4834-867c-c0021fc4702e",
   "metadata": {},
   "source": [
    "### Cambio a minusculas"
   ]
  },
  {
   "cell_type": "code",
   "execution_count": null,
   "id": "91cec841",
   "metadata": {},
   "outputs": [],
   "source": [
    "dataset1[\"text_lower\"] = dataset1[\"text\"].map(preprocess_text)\n",
    "dataset1"
   ]
  },
  {
   "cell_type": "markdown",
   "id": "bbbea148-a16f-49b4-abc0-a974415f27d8",
   "metadata": {},
   "source": [
    "### Borramos palabras tipicas"
   ]
  },
  {
   "cell_type": "code",
   "execution_count": 5,
   "id": "414565ed",
   "metadata": {},
   "outputs": [],
   "source": [
    "#Con esto sacamos palabras tipicas de habla hispana.\n",
    "from nltk.corpus import stopwords\n",
    "STOPWORDS = set(stopwords.words('spanish'))"
   ]
  },
  {
   "cell_type": "code",
   "execution_count": null,
   "id": "37b05a49",
   "metadata": {
    "scrolled": true
   },
   "outputs": [],
   "source": [
    "def stopwords(text):\n",
    "    return \" \".join([word for word in str(text).split() if word not in STOPWORDS])\n",
    "\n",
    "dataset1[\"text_stop\"] = dataset1[\"text_lower\"].apply(stopwords)\n",
    "dataset1.head()"
   ]
  },
  {
   "cell_type": "markdown",
   "id": "cda863ed-8228-40fb-9167-bd4a8e19fd6d",
   "metadata": {},
   "source": [
    "### Contamos las más comunes"
   ]
  },
  {
   "cell_type": "code",
   "execution_count": null,
   "id": "fe151159",
   "metadata": {},
   "outputs": [],
   "source": [
    "#Contamos palabras más populares\n",
    "\n",
    "cnt = Counter()\n",
    "for text in dataset1[\"text_stop\"].values:\n",
    "    for word in text.split():\n",
    "        cnt[word] += 1\n",
    "        \n",
    "cnt.most_common(10)"
   ]
  },
  {
   "cell_type": "markdown",
   "id": "90a02c77-4da4-4fb0-9b56-e3267c158ac1",
   "metadata": {},
   "source": [
    "### Transformamos los emojis"
   ]
  },
  {
   "cell_type": "code",
   "execution_count": 8,
   "id": "463248d6",
   "metadata": {},
   "outputs": [],
   "source": [
    "def convert_emoji_to_text(emoji_text):\n",
    "    text_with_aliases = emoji.demojize(emoji_text)\n",
    "    return text_with_aliases\n",
    "\n",
    "\n",
    "# Passing both functions to 'text_rare'\n",
    "dataset1['text_rare'] = dataset1['text_stop'].apply(convert_emoji_to_text)"
   ]
  },
  {
   "cell_type": "code",
   "execution_count": null,
   "id": "91d8eca1",
   "metadata": {},
   "outputs": [],
   "source": [
    "dataset1.head()"
   ]
  },
  {
   "cell_type": "markdown",
   "id": "3d8a0854-faab-4aab-9eed-4b41c6c3f8db",
   "metadata": {},
   "source": [
    "### Embedding con TfidVectorizer"
   ]
  },
  {
   "cell_type": "code",
   "execution_count": null,
   "id": "319ff752-94fb-4dbe-83ea-775a3cd4d898",
   "metadata": {},
   "outputs": [],
   "source": [
    "#Lo transformamos a un wordembedding\n",
    "\n",
    "lista_descriptiva = dataset1[\"text_rare\"]\n",
    "vec = TfidfVectorizer(use_idf=False, min_df=.0005)\n",
    "matrix = vec.fit_transform(lista_descriptiva)\n",
    "matrix_text = pd.DataFrame(matrix.toarray(), columns=vec.get_feature_names_out())\n",
    "samples = matrix_text\n",
    "samples"
   ]
  },
  {
   "cell_type": "markdown",
   "id": "166a5826-3034-49f9-b8f1-5f3f7e5d29c5",
   "metadata": {},
   "source": [
    "### KMeans sin PCA"
   ]
  },
  {
   "cell_type": "code",
   "execution_count": null,
   "id": "8aea8335-f059-484c-86a3-073876b452b1",
   "metadata": {
    "scrolled": true
   },
   "outputs": [],
   "source": [
    "for i in range(2,20):\n",
    "    km = KMeans(n_clusters=i, init='random', max_iter=200, random_state=0).fit(samples)\n",
    "    sample_km = km.labels_\n",
    "    score = metrics.silhouette_score(samples, sample_km)\n",
    "    print(\"cantidad de cluster:\", i)\n",
    "    print(\"Silhouette Coefficient: %0.3f\" % score)"
   ]
  },
  {
   "cell_type": "markdown",
   "id": "8406a470-e26a-427a-ac97-a6bc301a40c8",
   "metadata": {},
   "source": [
    "### Aplicación PCA"
   ]
  },
  {
   "cell_type": "markdown",
   "id": "220d33ae-912d-434c-9a03-305a2af34fed",
   "metadata": {},
   "source": [
    "#### Creación del modelo"
   ]
  },
  {
   "cell_type": "code",
   "execution_count": 12,
   "id": "b21b812f-5ecc-4732-bad5-5dd79f7a1003",
   "metadata": {},
   "outputs": [],
   "source": [
    "# Aplico pca\n",
    "pca2D = PCA(2)\n",
    "pca2D.fit(samples)\n",
    "#Transform the data\n",
    "sample_PCA_2D = pca2D.transform(samples)\n",
    "\n",
    "df_samples_PCA_2D = pd.DataFrame(data=sample_PCA_2D, columns=[\"pca0\", \"pca1\"])"
   ]
  },
  {
   "cell_type": "markdown",
   "id": "2040759b-9d08-4600-8fe1-50d2b59c3d14",
   "metadata": {},
   "source": [
    "#### Representación del modelo"
   ]
  },
  {
   "cell_type": "code",
   "execution_count": null,
   "id": "c8da2b66-9aba-465c-938d-7e429a6abce8",
   "metadata": {},
   "outputs": [],
   "source": [
    "title = 'Original data after 2D PCA transform'\n",
    "axes_PCA_2D = {'x': 'pca0', 'y': 'pca1'}\n",
    "Plot2D (sample_PCA_2D, title, axes_PCA_2D)"
   ]
  },
  {
   "cell_type": "markdown",
   "id": "0fac5457-ad26-43fb-a2ae-ad5f49c00fe9",
   "metadata": {},
   "source": [
    "#### Modelación vecinos cercanos"
   ]
  },
  {
   "cell_type": "code",
   "execution_count": null,
   "id": "b99ffeb1-4a0a-4591-927e-75a0182d0ee9",
   "metadata": {},
   "outputs": [],
   "source": [
    "PlotDistancesToKnearestNeighbor(sample_PCA_2D, 10)"
   ]
  },
  {
   "cell_type": "markdown",
   "id": "9a256420-460b-41f9-aec2-ffba25f033d4",
   "metadata": {},
   "source": [
    "#### Aplicamos DBScan a los datos"
   ]
  },
  {
   "cell_type": "code",
   "execution_count": null,
   "id": "df761012-2493-4cb6-93dc-79987a68e72b",
   "metadata": {},
   "outputs": [],
   "source": [
    "min_samples = 10\n",
    "epsilon_values = [0.028, 0.03, 0.032, 0.035 , 0.037, 0.04, 0.044, 0.046, 0.05, 0.06]\n",
    "aux_labels = {}\n",
    "for epsilon in epsilon_values:\n",
    "  aux_labels[epsilon] = ApplyDBScanToData (sample_PCA_2D, epsilon, min_samples=min_samples)\n",
    "\n",
    "epsilon = 0.046\n",
    "labels_PCA_2D = aux_labels[epsilon]"
   ]
  },
  {
   "cell_type": "markdown",
   "id": "6bf30d62-333b-4fe1-962f-581b36f1b4db",
   "metadata": {},
   "source": [
    "#### Representación del resultado"
   ]
  },
  {
   "cell_type": "code",
   "execution_count": null,
   "id": "cfb01def-bb36-4200-9363-6f33595688a3",
   "metadata": {},
   "outputs": [],
   "source": [
    "title = f'DBScan(eps={epsilon}, MinPts={min_samples}) over 2D t-SNE transformed data'\n",
    "Plot2D_WithLabels (sample_PCA_2D, labels_PCA_2D, title, axes_PCA_2D)"
   ]
  },
  {
   "cell_type": "markdown",
   "id": "4a6426a5-c2f5-4e22-8f3e-f724bd59ff19",
   "metadata": {},
   "source": [
    "#### Aplicación KMeans"
   ]
  },
  {
   "cell_type": "code",
   "execution_count": null,
   "id": "9c571cb4-1dbb-4f92-af17-30416349c2fe",
   "metadata": {},
   "outputs": [],
   "source": [
    "#calculo kmeans del texto con aplicar PCA\n",
    "clusters =[2,3,4,5,6,7,8,9,10,11,12,13,14,15,16,17,18,19,20]\n",
    "silhouette_avg = []\n",
    "\n",
    "\n",
    "for i in clusters:\n",
    "    km = KMeans(n_clusters=i, init='random', max_iter=200, random_state=0).fit(sample_PCA_2D)\n",
    "    sample_km_pca_2d = km.labels_\n",
    "    \n",
    "    score = silhouette_score(sample_PCA_2D, km.labels_)\n",
    "    silhouette_avg.append(score)\n",
    "    \n",
    "    print(\"cantidad de cluster:\", i)\n",
    "    print(\"Silhouette Coefficient: %0.3f\" % metrics.silhouette_score(sample_PCA_2D, sample_km_pca_2d))"
   ]
  },
  {
   "cell_type": "markdown",
   "id": "ee3e023e-faa8-472d-8d41-6c167c88f2b2",
   "metadata": {},
   "source": [
    "#### Gráfico K-Means "
   ]
  },
  {
   "cell_type": "code",
   "execution_count": null,
   "id": "08ff2716-e1cd-4889-af13-e7af241d8e02",
   "metadata": {},
   "outputs": [],
   "source": [
    "n_clusters = clusters[pd.Series(silhouette_avg).idxmax()]\n",
    "kmeans = KMeans(n_clusters=n_clusters)\n",
    "label = kmeans.fit_predict(sample_PCA_2D)\n",
    "\n",
    "axes_PCA = {'x': 'pca0', 'y': 'pca1'}\n",
    "title = f'K-means(K={n_clusters}) over 2D PCA transformed data'\n",
    "plot = Plot2D_WithLabels(sample_PCA_2D, kmeans.labels_, title, axes_PCA, centroids_2D=kmeans.cluster_centers_)"
   ]
  },
  {
   "cell_type": "markdown",
   "id": "6e7e48a6-eb51-4d6a-986d-e18cabda5272",
   "metadata": {},
   "source": [
    "### Aplicación TSNE 2D"
   ]
  },
  {
   "cell_type": "markdown",
   "id": "7a045ab5-7a07-4157-9595-e3c6bad628e9",
   "metadata": {},
   "source": [
    "#### Creación del modelo"
   ]
  },
  {
   "cell_type": "code",
   "execution_count": 19,
   "id": "faaff5db-68ce-4617-8c98-eeb0f896c820",
   "metadata": {},
   "outputs": [],
   "source": [
    "tsne2D = TSNE(n_components=2)\n",
    "samples_TSNE_2D = tsne2D.fit_transform(samples)\n",
    "df_samples_TSNE_2D = pd.DataFrame(data=samples_TSNE_2D, columns=[\"tsne0\", \"tsne1\"])"
   ]
  },
  {
   "cell_type": "markdown",
   "id": "bc21c9dd-e507-419c-9d9d-c022af282857",
   "metadata": {},
   "source": [
    "#### Representación Visual"
   ]
  },
  {
   "cell_type": "code",
   "execution_count": null,
   "id": "dfcf3752-3773-4bc8-b88e-c94c52482233",
   "metadata": {},
   "outputs": [],
   "source": [
    "title = 'Original data after 2D t-SNE transform'\n",
    "axes_TSNE_2D = {'x': 'tsne0', 'y': 'tsne1'}\n",
    "Plot2D (samples_TSNE_2D, title, axes_TSNE_2D)"
   ]
  },
  {
   "cell_type": "markdown",
   "id": "d6fbe28c-c315-4b5c-8e78-26ddaf787efa",
   "metadata": {},
   "source": [
    "#### Modelación KnearestNeighbor TSNE 2D"
   ]
  },
  {
   "cell_type": "code",
   "execution_count": null,
   "id": "97ff27a0-af14-4945-bb17-2a0c5a606f9d",
   "metadata": {},
   "outputs": [],
   "source": [
    "PlotDistancesToKnearestNeighbor(samples_TSNE_2D, 15)"
   ]
  },
  {
   "cell_type": "markdown",
   "id": "695d6303-c663-47d1-97f6-ab526dab5b9f",
   "metadata": {},
   "source": [
    "#### Aplicación KMeans"
   ]
  },
  {
   "cell_type": "code",
   "execution_count": null,
   "id": "f059a713-afe0-4976-ae85-d7d699252865",
   "metadata": {},
   "outputs": [],
   "source": [
    "#calculo kmeans del texto con aplicar PCA\n",
    "clusters =[2,3,4,5,6,7,8,9,10,11,12,13,14,15,16,17,18,19,20]\n",
    "silhouette_avg = []\n",
    "\n",
    "\n",
    "for i in clusters:\n",
    "    km = KMeans(n_clusters=i, init='random', max_iter=200, random_state=0).fit(samples_TSNE_2D)\n",
    "    sample_km_pca_2d = km.labels_\n",
    "    \n",
    "    score = silhouette_score(samples_TSNE_2D, km.labels_)\n",
    "    silhouette_avg.append(score)\n",
    "    \n",
    "    print(\"cantidad de cluster:\", i)\n",
    "    print(\"Silhouette Coefficient: %0.3f\" % metrics.silhouette_score(samples_TSNE_2D, sample_km_pca_2d))"
   ]
  },
  {
   "cell_type": "markdown",
   "id": "bcf75a77-c3f5-4c32-976a-7d8ce9e3cc21",
   "metadata": {},
   "source": [
    "#### Gráfico K-Means"
   ]
  },
  {
   "cell_type": "code",
   "execution_count": null,
   "id": "79325e3a-5936-4c47-a26d-8b6b8fa87e16",
   "metadata": {},
   "outputs": [],
   "source": [
    "n_clusters = clusters[pd.Series(silhouette_avg).idxmax()]\n",
    "kmeans = KMeans(n_clusters=n_clusters)\n",
    "label = kmeans.fit_predict(samples_TSNE_2D)\n",
    "\n",
    "axes_PCA = {'x': 'pca0', 'y': 'pca1'}\n",
    "title = f'K-means(K={n_clusters}) over 2D PCA transformed data'\n",
    "plot = Plot2D_WithLabels(samples_TSNE_2D, kmeans.labels_, title, axes_PCA, centroids_2D=kmeans.cluster_centers_)"
   ]
  },
  {
   "cell_type": "markdown",
   "id": "34f6e5c8-3b50-4e36-b846-91eae0451205",
   "metadata": {},
   "source": [
    "#### Aplicación DBScan"
   ]
  },
  {
   "cell_type": "code",
   "execution_count": null,
   "id": "9aa92cde-c838-4a5b-9ba6-44562b7c49b1",
   "metadata": {},
   "outputs": [],
   "source": [
    "min_samples = 20\n",
    "epsilon_values = [3.2, 3.4, 3.6, 3.8, 3.9, 4, 4.05, 4.055,4.1, 4.3, 4.5, 4.7, 4.9]\n",
    "aux_labels = {}\n",
    "for epsilon in epsilon_values:\n",
    "  aux_labels[epsilon] = ApplyDBScanToData (samples_TSNE_2D, epsilon, min_samples=min_samples)\n",
    "\n",
    "epsilon = 3.4\n",
    "labels_TSNE_2D = aux_labels[epsilon]"
   ]
  },
  {
   "cell_type": "markdown",
   "id": "ec0de217-9770-4312-9203-e8edbf385579",
   "metadata": {},
   "source": [
    "#### Representación del resultado"
   ]
  },
  {
   "cell_type": "code",
   "execution_count": null,
   "id": "9dacf368-c819-46e7-991d-e798e9babe0a",
   "metadata": {},
   "outputs": [],
   "source": [
    "title = f'DBScan(eps={epsilon}, MinPts={min_samples}) over 2D t-SNE transformed data'\n",
    "Plot2D_WithLabels (samples_TSNE_2D, labels_TSNE_2D, title, axes_TSNE_2D)"
   ]
  },
  {
   "cell_type": "code",
   "execution_count": null,
   "id": "e624dab2-855c-4498-9ac3-a6bc4df506f7",
   "metadata": {},
   "outputs": [],
   "source": []
  },
  {
   "cell_type": "markdown",
   "id": "79b7e0da-6585-4f22-8996-adab48319796",
   "metadata": {},
   "source": [
    "# Embedding BETO - MARIA"
   ]
  },
  {
   "cell_type": "markdown",
   "id": "8790c41f-3cff-4f94-9f4f-9b26fc77fae7",
   "metadata": {},
   "source": [
    "## Dataset BETO"
   ]
  },
  {
   "cell_type": "markdown",
   "id": "c063a89a-fec5-4e41-817a-d22275ff422e",
   "metadata": {},
   "source": [
    "### Cargado de Datos"
   ]
  },
  {
   "cell_type": "code",
   "execution_count": null,
   "id": "d28e1e79",
   "metadata": {},
   "outputs": [],
   "source": [
    "dataset2 = np.loadtxt(\"EmoEvalEs-embeddings-BETO.txt\")\n",
    "dataset2.shape"
   ]
  },
  {
   "cell_type": "markdown",
   "id": "c062d2b7-aa72-4bf6-87d4-0d01e7ed6e8a",
   "metadata": {},
   "source": [
    "### Nearest Neighbor"
   ]
  },
  {
   "cell_type": "code",
   "execution_count": null,
   "id": "55e6bb61-7490-4d0f-9411-fc4302a8b9d4",
   "metadata": {},
   "outputs": [],
   "source": [
    "PlotDistancesToKnearestNeighbor(dataset2, 10)"
   ]
  },
  {
   "cell_type": "markdown",
   "id": "227a6dd7-cd42-4b20-93cb-3d9170f490fa",
   "metadata": {},
   "source": [
    "### DBScan sin Reducción de Dimensionalidad"
   ]
  },
  {
   "cell_type": "code",
   "execution_count": null,
   "id": "adb5cb99-9d1f-4800-8c77-d1239b66e27f",
   "metadata": {},
   "outputs": [],
   "source": [
    "min_samples = 10\n",
    "epsilon_values = [4,4.1,4.2,4.3,4.4,4.5,4.6,4.7,4.8,5,6]\n",
    "aux_labels = {}\n",
    "for epsilon in epsilon_values:\n",
    "  aux_labels[epsilon] = ApplyDBScanToData(dataset2, epsilon, min_samples=min_samples)\n",
    "\n",
    "epsilon = 4.3\n",
    "labels = aux_labels[epsilon]"
   ]
  },
  {
   "cell_type": "markdown",
   "id": "b467ba58-469d-4613-8158-179539b8a95a",
   "metadata": {},
   "source": [
    "### K-Means sin PCA"
   ]
  },
  {
   "cell_type": "code",
   "execution_count": null,
   "id": "4cdcd007-c578-4ee3-8845-54e80000eeb7",
   "metadata": {},
   "outputs": [],
   "source": [
    "for i in range(2,20):\n",
    "    km = KMeans(n_clusters=i, init='random', max_iter=200, random_state=0).fit(dataset2)\n",
    "    sample_km = km.labels_\n",
    "    score = metrics.silhouette_score(dataset2, sample_km)\n",
    "    print(\"cantidad de cluster:\", i)\n",
    "    print(\"Silhouette Coefficient: %0.3f\" % score)"
   ]
  },
  {
   "cell_type": "markdown",
   "id": "aba0d4bb-5084-4e4e-86ce-7a1c5ab99002",
   "metadata": {},
   "source": [
    "### PCA 2D\n",
    "\n",
    "#### Búsqueda N° óptimo CLusters"
   ]
  },
  {
   "cell_type": "code",
   "execution_count": null,
   "id": "dd40f4af-75e3-4dba-b0bd-8643dee04177",
   "metadata": {
    "scrolled": true
   },
   "outputs": [],
   "source": [
    "# Raw Data\n",
    "pca2D = PCA(2)\n",
    " \n",
    "#Transform the data\n",
    "df_2D = pca2D.fit_transform(dataset2)\n",
    "\n",
    "df_samples_PCA_2D = pd.DataFrame(data=df_2D, columns=[\"pca0\", \"pca1\"])\n",
    "\n",
    "clusters = [5,6,7,8,10,15]\n",
    "silhouette_avg = []\n",
    "\n",
    "for i in clusters:\n",
    "    #Initialize the class object\n",
    "    kmeans = KMeans(n_clusters=i)\n",
    "     \n",
    "    #predict the labels of clusters.\n",
    "    label = kmeans.fit_predict(df_samples_PCA_2D)\n",
    "     \n",
    "    #Getting unique labels\n",
    "    u_labels = np.unique(label)\n",
    "     \n",
    "    #plotting the results:\n",
    "    for i in u_labels:\n",
    "        plt.scatter(df_2D[label == i , 0] , df_2D[label == i , 1] , label = i)\n",
    "    plt.legend()\n",
    "    plt.show()\n",
    "    \n",
    "    score = silhouette_score(df_samples_PCA_2D, kmeans.labels_)\n",
    "    silhouette_avg.append(score)"
   ]
  },
  {
   "cell_type": "markdown",
   "id": "28ba229c-33d5-4e49-b043-cc4d0bd8c32a",
   "metadata": {},
   "source": [
    "#### Modelacion N° clusters - Score Silhouette"
   ]
  },
  {
   "cell_type": "code",
   "execution_count": null,
   "id": "4970220c-13dc-478c-9fd5-c6b0546f876d",
   "metadata": {
    "scrolled": true
   },
   "outputs": [],
   "source": [
    "plt.plot(clusters,silhouette_avg)\n",
    "plt.xlabel(\"Values of K\") \n",
    "plt.ylabel(\"Silhouette score\") \n",
    "plt.title(\"Silhouette analysis For Optimal k\")\n",
    "plt.show()\n",
    "print(\"N° Clusters con mejor Score: \",clusters[pd.Series(silhouette_avg).idxmax()],\"\\nScore: \",max(silhouette_avg))"
   ]
  },
  {
   "cell_type": "markdown",
   "id": "50aee86f-9214-4274-9d64-1f5956ca7cda",
   "metadata": {},
   "source": [
    "#### Modelado K-Means con N° Óptimo Clusters 2D"
   ]
  },
  {
   "cell_type": "code",
   "execution_count": null,
   "id": "b85e76f4-f059-4573-ad31-a2e0243a8901",
   "metadata": {
    "scrolled": true
   },
   "outputs": [],
   "source": [
    "n_clusters = clusters[pd.Series(silhouette_avg).idxmax()]\n",
    "kmeans = KMeans(n_clusters=n_clusters)\n",
    "label = kmeans.fit_predict(df_samples_PCA_2D)\n",
    "\n",
    "axes_PCA = {'x': 'pca0', 'y': 'pca1'}\n",
    "title = f'K-means(K={n_clusters}) over 2D PCA transformed data'\n",
    "plot = Plot2D_WithLabels(df_samples_PCA_2D, kmeans.labels_, title, axes_PCA, centroids_2D=kmeans.cluster_centers_)"
   ]
  },
  {
   "cell_type": "markdown",
   "id": "ec62f910-f874-43e2-b720-f939e594432c",
   "metadata": {},
   "source": [
    "### PCA 3D\n",
    "\n",
    "#### Búsqueda N° óptimo Clusters"
   ]
  },
  {
   "cell_type": "code",
   "execution_count": null,
   "id": "443529dd-993d-4c4a-b00c-e531d4ead597",
   "metadata": {
    "scrolled": true
   },
   "outputs": [],
   "source": [
    "pca3D = PCA(n_components=3)\n",
    "df_3D = pca3D.fit_transform(dataset2)\n",
    "df_samples_PCA_3D = pd.DataFrame(data=df_3D, columns=[\"pca0\", \"pca1\", \"pca2\"])\n",
    "\n",
    "clusters = [5,6,7,8,10,15]\n",
    "silhouette_avg = []\n",
    "\n",
    "for i in clusters:\n",
    "    #Initialize the class object\n",
    "    kmeans = KMeans(n_clusters=i)\n",
    "     \n",
    "    #predict the labels of clusters.\n",
    "    label = kmeans.fit_predict(df_samples_PCA_3D)\n",
    "     \n",
    "    #Getting unique labels\n",
    "    u_labels = np.unique(label)\n",
    "     \n",
    "    #plotting the results:\n",
    "    for i in u_labels:\n",
    "        plt.scatter(df_3D[label == i , 0] , df_3D[label == i , 1] , label = i)\n",
    "    plt.legend()\n",
    "    plt.show()\n",
    "    \n",
    "    score = silhouette_score(df_samples_PCA_3D, kmeans.labels_)\n",
    "    silhouette_avg.append(score)"
   ]
  },
  {
   "cell_type": "markdown",
   "id": "211b6b60-9445-494a-ac93-b3f2284b66d8",
   "metadata": {},
   "source": [
    "#### Modelacion N° clusters - Score Silhouette"
   ]
  },
  {
   "cell_type": "code",
   "execution_count": null,
   "id": "c0feaf83-fa1b-403a-bbda-16dfbc2e12b5",
   "metadata": {},
   "outputs": [],
   "source": [
    "plt.plot(clusters,silhouette_avg)\n",
    "plt.xlabel(\"Values of K\") \n",
    "plt.ylabel(\"Silhouette score\") \n",
    "plt.title(\"Silhouette analysis For Optimal k\")\n",
    "plt.show()\n",
    "print(\"N° Clusters con mejor Score: \",clusters[pd.Series(silhouette_avg).idxmax()],\"\\nScore: \",max(silhouette_avg))"
   ]
  },
  {
   "cell_type": "markdown",
   "id": "354fb2ca-8736-4c6c-90be-bf51297fccbf",
   "metadata": {},
   "source": [
    "#### Modelado K-Means con N° Óptimo Clusters 3D"
   ]
  },
  {
   "cell_type": "code",
   "execution_count": null,
   "id": "d0c7abb6-2ed1-4094-a429-3a9b4a8cf2ef",
   "metadata": {},
   "outputs": [],
   "source": [
    "n_clusters = clusters[pd.Series(silhouette_avg).idxmax()]\n",
    "kmeans = KMeans(n_clusters=n_clusters)\n",
    "label = kmeans.fit_predict(df_samples_PCA_3D)\n",
    "axes_PCA_3D = {'x': 'pca0', 'y': 'pca1', 'z': 'pca2'}\n",
    "\n",
    "title = f'K-means(K={n_clusters}) over 3D PCA transformed data'\n",
    "plot = Plot3D_WithLabels (df_samples_PCA_3D, kmeans.labels_, title, axes_PCA_3D, centroids_3D=kmeans.cluster_centers_)"
   ]
  },
  {
   "cell_type": "markdown",
   "id": "3c033d1b-8d13-4337-aca9-d37504add59d",
   "metadata": {},
   "source": [
    "### t-SNE 2D"
   ]
  },
  {
   "cell_type": "markdown",
   "id": "308d7c44-1d22-43f7-af62-c9ce80339ca5",
   "metadata": {},
   "source": [
    "#### Reducción de Dimensión"
   ]
  },
  {
   "cell_type": "code",
   "execution_count": 36,
   "id": "9456283e-7c11-40e1-aea9-42c3d5a1ced2",
   "metadata": {
    "scrolled": true
   },
   "outputs": [],
   "source": [
    "tsne2D = TSNE(n_components=2)\n",
    "samples_TSNE_2D = tsne2D.fit_transform(dataset2)\n",
    "df_samples_TSNE_2D = pd.DataFrame(data=samples_TSNE_2D, columns=[\"tsne0\", \"tsne1\"])"
   ]
  },
  {
   "cell_type": "markdown",
   "id": "dcf25ad9-61c2-43bc-b810-4ee0d54db699",
   "metadata": {},
   "source": [
    "#### Visualización t-SNE 2D"
   ]
  },
  {
   "cell_type": "code",
   "execution_count": null,
   "id": "cc522314-a83e-40c7-81e1-3aa545c37c12",
   "metadata": {},
   "outputs": [],
   "source": [
    "title = 'Original data after 2D t-SNE transform'\n",
    "axes_TSNE_2D = {'x': 'tsne0', 'y': 'tsne1'}\n",
    "Plot2D (samples_TSNE_2D, title, axes_TSNE_2D)"
   ]
  },
  {
   "cell_type": "markdown",
   "id": "d86201d0-b1c8-4023-b6d2-e1e5c7222fbe",
   "metadata": {},
   "source": [
    "#### DBScan t-SNE 2D"
   ]
  },
  {
   "cell_type": "markdown",
   "id": "f48e0e7b-eb3f-4543-bcef-4f21212189f1",
   "metadata": {},
   "source": [
    "##### Modelación Nearest Neighbor"
   ]
  },
  {
   "cell_type": "code",
   "execution_count": null,
   "id": "9c80d640-7dab-4e0d-bea5-0783ce2a76f9",
   "metadata": {},
   "outputs": [],
   "source": [
    "PlotDistancesToKnearestNeighbor(samples_TSNE_2D, 50) # notese que el parametro de entrada NO es samples"
   ]
  },
  {
   "cell_type": "markdown",
   "id": "0b4f7a3b-0337-408a-82b6-4dd00cc2a57b",
   "metadata": {},
   "source": [
    "##### Epsilons Score Silhouette "
   ]
  },
  {
   "cell_type": "code",
   "execution_count": null,
   "id": "ccafd1e1-ceaa-47d8-b3c4-b987b26a39d0",
   "metadata": {},
   "outputs": [],
   "source": [
    "min_samples = 50\n",
    "epsilon_values = [3.9, 4, 4.05, 4.055,4.1, 4.3, 4.5, 4.7, 4.9, 5, 5.2, 5.4, 5.6, 5.8]\n",
    "aux_labels = {}\n",
    "for epsilon in epsilon_values:\n",
    "  aux_labels[epsilon] = ApplyDBScanToData (samples_TSNE_2D, epsilon, min_samples=min_samples)\n",
    "\n",
    "epsilon = 4.05\n",
    "labels_TSNE_2D = aux_labels[epsilon]"
   ]
  },
  {
   "cell_type": "markdown",
   "id": "1391a893-222c-4271-9bb5-8f19ea5b1868",
   "metadata": {},
   "source": [
    "##### Visualización DBScan"
   ]
  },
  {
   "cell_type": "code",
   "execution_count": null,
   "id": "50600f8c-d6bc-42e9-8985-02a27a725fc3",
   "metadata": {},
   "outputs": [],
   "source": [
    "title = f'DBScan(eps={epsilon}, MinPts={min_samples}) over 2D t-SNE transformed data'\n",
    "Plot2D_WithLabels (samples_TSNE_2D, labels_TSNE_2D, title, axes_TSNE_2D)"
   ]
  },
  {
   "cell_type": "markdown",
   "id": "0d1cb9f2-0524-4687-829c-a66d73dd6c06",
   "metadata": {},
   "source": [
    "### t-SNE 3D"
   ]
  },
  {
   "cell_type": "markdown",
   "id": "4a0fb653-df8b-4ea2-91d5-3f3700dd04e9",
   "metadata": {},
   "source": [
    "#### Reducción de Dimensión"
   ]
  },
  {
   "cell_type": "code",
   "execution_count": 41,
   "id": "dfe4d171-0ec2-437e-890f-b3ca3ab15be6",
   "metadata": {},
   "outputs": [],
   "source": [
    "tsne3D = TSNE(n_components=3)\n",
    "samples_TSNE_3D = tsne2D.fit_transform(dataset2)\n",
    "df_samples_TSNE_3D = pd.DataFrame(data=samples_TSNE_3D, columns=[\"tsne0\", \"tsne1\"])"
   ]
  },
  {
   "cell_type": "markdown",
   "id": "f0a3529a-b789-4c81-ace9-1ef29c1506e7",
   "metadata": {},
   "source": [
    "#### Modelación Nearest Neighbor"
   ]
  },
  {
   "cell_type": "code",
   "execution_count": null,
   "id": "32ccec21-b836-4cfb-9946-61a4590c1ec4",
   "metadata": {},
   "outputs": [],
   "source": [
    "PlotDistancesToKnearestNeighbor(samples_TSNE_3D, 100)"
   ]
  },
  {
   "cell_type": "markdown",
   "id": "1076f908-55a9-411a-a939-8180bc812baa",
   "metadata": {},
   "source": [
    "### DBScan t-SNE 3D"
   ]
  },
  {
   "cell_type": "markdown",
   "id": "769e2fb3-0b32-4cf3-ae0f-699cc607f11e",
   "metadata": {},
   "source": [
    "#### Epsilons Score Silhouette"
   ]
  },
  {
   "cell_type": "code",
   "execution_count": null,
   "id": "e6f44cb0-ea12-4075-92d8-34851f3856e7",
   "metadata": {
    "scrolled": true
   },
   "outputs": [],
   "source": [
    "min_samples = 100\n",
    "epsilon_values = [4.5, 5, 5.5, 5.7, 5.9, 5.95, 6, 6.1, 6.2, 6.3, 6.5, 6.6,6.7, 6.9, 7, 7.5]\n",
    "aux_labels = {}\n",
    "for epsilon in epsilon_values:\n",
    "  aux_labels[epsilon] = ApplyDBScanToData (samples_TSNE_3D, epsilon, min_samples=min_samples)\n",
    "\n",
    "epsilon = 6\n",
    "labels_TSNE_3D = aux_labels[epsilon]"
   ]
  },
  {
   "cell_type": "markdown",
   "id": "4a16f3ab-77fd-4234-b0c1-2adccc6ef7f2",
   "metadata": {},
   "source": [
    "#### Visualización t-SNE 3D"
   ]
  },
  {
   "cell_type": "code",
   "execution_count": null,
   "id": "232e1ec6-4ae1-45bf-a26d-2dbf373b62c8",
   "metadata": {
    "scrolled": true
   },
   "outputs": [],
   "source": [
    "title = f'DBScan(eps={epsilon}, MinPts={min_samples}) over 2D t-SNE transformed data'\n",
    "title = 'Original data after 3D t-SNE transform'\n",
    "axes_TSNE_3D = {'x': 'tsne0', 'y': 'tsne1'}\n",
    "Plot2D_WithLabels (samples_TSNE_3D, labels_TSNE_3D, title, axes_TSNE_3D)"
   ]
  },
  {
   "cell_type": "markdown",
   "id": "9c4ff66e-364c-4ed8-be40-a881ade4980d",
   "metadata": {},
   "source": [
    "### DBScan\n",
    "\n",
    "#### DBScan - PCA 2D"
   ]
  },
  {
   "cell_type": "code",
   "execution_count": null,
   "id": "738fed04-b3f1-47c6-a03f-4c61e871807a",
   "metadata": {},
   "outputs": [],
   "source": [
    "n_samples = 40\n",
    "PlotDistancesToKnearestNeighbor(df_samples_PCA_2D, n_samples)"
   ]
  },
  {
   "cell_type": "code",
   "execution_count": null,
   "id": "4f26cba8-ecf8-4bec-8b03-90f419a84337",
   "metadata": {},
   "outputs": [],
   "source": [
    "epsis = [0.2,0.28,0.29,0.3,0.31,0.32,0.33,0.34,0.35,0.37,0.39,0.4]\n",
    "aux_labels = {}\n",
    "for epsilon in epsis:\n",
    "  aux_labels[epsilon] = ApplyDBScanToData (df_samples_PCA_2D, epsilon, min_samples=min_samples)\n",
    "\n",
    "epsilon = 0.29\n",
    "labels_PCA_2D = aux_labels[epsilon]\n",
    "Plot2D_WithLabels (df_samples_PCA_2D, labels_PCA_2D, title, axes_PCA_2D, palette=\"Paired\")"
   ]
  },
  {
   "cell_type": "markdown",
   "id": "d05a1312-59da-432a-8676-294e2b07c1d7",
   "metadata": {},
   "source": [
    "#### DBScan - PCA 3D"
   ]
  },
  {
   "cell_type": "code",
   "execution_count": null,
   "id": "7efb573a-db1e-4dad-a16d-e52feb227bcc",
   "metadata": {},
   "outputs": [],
   "source": [
    "n_samples = 20\n",
    "PlotDistancesToKnearestNeighbor(df_samples_PCA_3D, n_samples)"
   ]
  },
  {
   "cell_type": "code",
   "execution_count": null,
   "id": "e7bc6ea1-5b2d-419a-b421-4614f5f360df",
   "metadata": {},
   "outputs": [],
   "source": [
    "epsis = [0.2,0.28,0.29,0.3,0.31,0.32,0.33,0.34,0.35,0.37,0.39,0.4,0.41,0.42,0.43,0.44,0.45,0.46,0.47,0.48]\n",
    "data_epsis = []\n",
    "min_samples = n_samples\n",
    "\n",
    "#epsis = [0.2,0.28,0.29,0.3,0.31,0.32,0.33,0.34,0.35,0.37,0.39,0.4]\n",
    "aux_labels = {}\n",
    "for epsilon in epsis:\n",
    "  aux_labels[epsilon] = ApplyDBScanToData (df_samples_PCA_3D, epsilon, min_samples=min_samples)\n",
    "\n",
    "epsilon = 0.42\n",
    "labels_PCA_3D = aux_labels[epsilon]\n",
    "Plot2D_WithLabels (df_samples_PCA_3D, labels_PCA_3D, title, axes_PCA_3D, palette=\"Paired\")"
   ]
  },
  {
   "cell_type": "markdown",
   "id": "1e35b492-92d0-4d6a-98df-996f7c86528b",
   "metadata": {},
   "source": [
    "## Dataset MARIA"
   ]
  },
  {
   "cell_type": "markdown",
   "id": "d0ed2f08-37d3-433b-aaad-2ccf96701d6e",
   "metadata": {},
   "source": [
    "### Cargado de Datos"
   ]
  },
  {
   "cell_type": "code",
   "execution_count": null,
   "id": "9c8d6af6",
   "metadata": {},
   "outputs": [],
   "source": [
    "dataset3 = np.loadtxt(\"EmoEvalEs-embeddings-MARIA.txt\")\n",
    "dataset3.shape"
   ]
  },
  {
   "cell_type": "markdown",
   "id": "eb902df9-3554-4a26-bfb7-0f12401d2cbc",
   "metadata": {},
   "source": [
    "### Nearest Neighbor"
   ]
  },
  {
   "cell_type": "code",
   "execution_count": null,
   "id": "b44a3c74-9bf4-4aac-b626-21113603d70e",
   "metadata": {},
   "outputs": [],
   "source": [
    "PlotDistancesToKnearestNeighbor(dataset3, 10)"
   ]
  },
  {
   "cell_type": "markdown",
   "id": "e8df7487-8247-4f0b-996f-d53f289702a6",
   "metadata": {},
   "source": [
    "### DBScan sin Reducción de Dimensionalidad"
   ]
  },
  {
   "cell_type": "code",
   "execution_count": null,
   "id": "230dd29e-ab37-4ea8-8cec-1d9be7083d05",
   "metadata": {},
   "outputs": [],
   "source": [
    "min_samples = 7\n",
    "epsilon_values = [1,1.2,1.3,1.4,1.5,1.6,1.7,1.8]\n",
    "aux_labels = {}\n",
    "for epsilon in epsilon_values:\n",
    "  aux_labels[epsilon] = ApplyDBScanToData(dataset3, epsilon, min_samples=min_samples)\n",
    "\n",
    "epsilon = 1.4\n",
    "labels = aux_labels[epsilon]"
   ]
  },
  {
   "cell_type": "markdown",
   "id": "7b11435f-7f5c-4b1f-a879-4289c50d8787",
   "metadata": {},
   "source": [
    "### K-Means sin PCA"
   ]
  },
  {
   "cell_type": "code",
   "execution_count": null,
   "id": "9d811696-efe8-45ce-bbf2-4c6dab893c8d",
   "metadata": {},
   "outputs": [],
   "source": [
    "for i in range(2,20):\n",
    "    km = KMeans(n_clusters=i, init='random', max_iter=200, random_state=0).fit(dataset3)\n",
    "    sample_km = km.labels_\n",
    "    score = metrics.silhouette_score(dataset3, sample_km)\n",
    "    print(\"cantidad de cluster:\", i)\n",
    "    print(\"Silhouette Coefficient: %0.3f\" % score)"
   ]
  },
  {
   "cell_type": "markdown",
   "id": "98b7b357-f448-4252-a5a8-86a32ac6efda",
   "metadata": {},
   "source": [
    "### PCA 2D\n",
    "\n",
    "#### Búsqueda N° óptimo CLusters"
   ]
  },
  {
   "cell_type": "code",
   "execution_count": null,
   "id": "6684e5b3-5f82-421e-be6a-965934ccea62",
   "metadata": {
    "scrolled": true
   },
   "outputs": [],
   "source": [
    "# Raw Data\n",
    "pca2D = PCA(2)\n",
    " \n",
    "#Transform the data\n",
    "df_2D = pca2D.fit_transform(dataset3)\n",
    "\n",
    "df_samples_PCA_2D = pd.DataFrame(data=df_2D, columns=[\"pca0\", \"pca1\"])\n",
    "\n",
    "clusters = [5,6,7,8,10,15]\n",
    "silhouette_avg = []\n",
    "\n",
    "for i in clusters:\n",
    "    #Initialize the class object\n",
    "    kmeans = KMeans(n_clusters=i)\n",
    "     \n",
    "    #predict the labels of clusters.\n",
    "    label = kmeans.fit_predict(df_samples_PCA_2D)\n",
    "     \n",
    "    #Getting unique labels\n",
    "    u_labels = np.unique(label)\n",
    "     \n",
    "    #plotting the results:\n",
    "    for i in u_labels:\n",
    "        plt.scatter(df_2D[label == i , 0] , df_2D[label == i , 1] , label = i)\n",
    "    plt.legend()\n",
    "    plt.show()\n",
    "    \n",
    "    score = silhouette_score(df_samples_PCA_2D, kmeans.labels_)\n",
    "    silhouette_avg.append(score)"
   ]
  },
  {
   "cell_type": "markdown",
   "id": "c4d78270-5840-4a8c-9201-67c0072d1882",
   "metadata": {},
   "source": [
    "#### Modelacion N° clusters - Score Silhouette"
   ]
  },
  {
   "cell_type": "code",
   "execution_count": null,
   "id": "de79dfdb-468e-46c6-96b2-f73ef25015e9",
   "metadata": {},
   "outputs": [],
   "source": [
    "plt.plot(clusters,silhouette_avg)\n",
    "plt.xlabel(\"Values of K\") \n",
    "plt.ylabel(\"Silhouette score\") \n",
    "plt.title(\"Silhouette analysis For Optimal k\")\n",
    "plt.show()\n",
    "print(\"N° Clusters con mejor Score: \",clusters[pd.Series(silhouette_avg).idxmax()],\"\\nScore: \",max(silhouette_avg))"
   ]
  },
  {
   "cell_type": "markdown",
   "id": "e52ef4c4-7ad8-4399-821a-d89c8cda4352",
   "metadata": {},
   "source": [
    "#### Modelado K-Means con N° Óptimo Clusters 2D"
   ]
  },
  {
   "cell_type": "code",
   "execution_count": null,
   "id": "8e967c33-200d-43c0-85e4-83e281b6ada7",
   "metadata": {},
   "outputs": [],
   "source": [
    "n_clusters = clusters[pd.Series(silhouette_avg).idxmax()]\n",
    "kmeans = KMeans(n_clusters=n_clusters)\n",
    "label = kmeans.fit_predict(df_samples_PCA_2D)\n",
    "\n",
    "axes_PCA = {'x': 'pca0', 'y': 'pca1'}\n",
    "title = f'K-means(K={n_clusters}) over 2D PCA transformed data'\n",
    "plot = Plot2D_WithLabels(df_samples_PCA_2D, kmeans.labels_, title, axes_PCA, centroids_2D=kmeans.cluster_centers_)"
   ]
  },
  {
   "cell_type": "markdown",
   "id": "6a0cedc4-cc68-407b-99b3-3b7f71fcf277",
   "metadata": {},
   "source": [
    "### PCA 3D\n",
    "\n",
    "#### Búsqueda N° óptimo CLusters"
   ]
  },
  {
   "cell_type": "code",
   "execution_count": null,
   "id": "f000196f-5ce1-4518-bf13-eaafb1ec0599",
   "metadata": {
    "scrolled": true
   },
   "outputs": [],
   "source": [
    "pca3D = PCA(n_components=3)\n",
    "df_3D = pca3D.fit_transform(dataset3)\n",
    "df_samples_PCA_3D = pd.DataFrame(data=df_3D, columns=[\"pca0\", \"pca1\", \"pca2\"])\n",
    "\n",
    "clusters = [5,6,7,8,10,15]\n",
    "silhouette_avg = []\n",
    "\n",
    "for i in clusters:\n",
    "    #Initialize the class object\n",
    "    kmeans = KMeans(n_clusters=i)\n",
    "     \n",
    "    #predict the labels of clusters.\n",
    "    label = kmeans.fit_predict(df_samples_PCA_3D)\n",
    "     \n",
    "    #Getting unique labels\n",
    "    u_labels = np.unique(label)\n",
    "     \n",
    "    #plotting the results:\n",
    "    for i in u_labels:\n",
    "        plt.scatter(df_3D[label == i , 0] , df_3D[label == i , 1] , label = i)\n",
    "    plt.legend()\n",
    "    plt.show()\n",
    "    \n",
    "    score = silhouette_score(df_samples_PCA_3D, kmeans.labels_)\n",
    "    silhouette_avg.append(score)"
   ]
  },
  {
   "cell_type": "markdown",
   "id": "a87c50b0-9449-4971-8092-1be410373633",
   "metadata": {},
   "source": [
    "#### Modelacion N° clusters - Score Silhouette"
   ]
  },
  {
   "cell_type": "code",
   "execution_count": null,
   "id": "112394d1-d07f-426c-a12a-da7b51293644",
   "metadata": {},
   "outputs": [],
   "source": [
    "plt.plot(clusters,silhouette_avg)\n",
    "plt.xlabel(\"Values of K\") \n",
    "plt.ylabel(\"Silhouette score\") \n",
    "plt.title(\"Silhouette analysis For Optimal k\")\n",
    "plt.show()\n",
    "print(\"N° Clusters con mejor Score: \",clusters[pd.Series(silhouette_avg).idxmax()],\"\\nScore: \",max(silhouette_avg))"
   ]
  },
  {
   "cell_type": "markdown",
   "id": "08869c6c-f5d2-4c14-a4ff-eaf6f696c708",
   "metadata": {},
   "source": [
    "#### Modelado K-Means con N° Óptimo Clusters 3D"
   ]
  },
  {
   "cell_type": "code",
   "execution_count": null,
   "id": "98943ee1-e0ea-4a27-a591-e1099cb92808",
   "metadata": {},
   "outputs": [],
   "source": [
    "n_clusters = clusters[pd.Series(silhouette_avg).idxmax()]\n",
    "kmeans = KMeans(n_clusters=n_clusters)\n",
    "label = kmeans.fit_predict(df_samples_PCA_3D)\n",
    "axes_PCA_3D = {'x': 'pca0', 'y': 'pca1', 'z': 'pca2'}\n",
    "\n",
    "title = f'K-means(K={n_clusters}) over 3D PCA transformed data'\n",
    "plot = Plot3D_WithLabels (df_samples_PCA_3D, kmeans.labels_, title, axes_PCA_3D, centroids_3D=kmeans.cluster_centers_)"
   ]
  },
  {
   "cell_type": "markdown",
   "id": "5c908c83-8687-49cf-812d-fe78de9e19d4",
   "metadata": {},
   "source": [
    "### t-SNE 2D"
   ]
  },
  {
   "cell_type": "markdown",
   "id": "a675b2f0-a37c-4cbf-b47c-3c26203aca37",
   "metadata": {},
   "source": [
    "#### Reducción de Dimensión"
   ]
  },
  {
   "cell_type": "code",
   "execution_count": 62,
   "id": "36912627-ac27-4215-b736-f12b7e760917",
   "metadata": {},
   "outputs": [],
   "source": [
    "tsne2D = TSNE(n_components=2)\n",
    "samples_TSNE_2D = tsne2D.fit_transform(dataset3)\n",
    "df_samples_TSNE_2D = pd.DataFrame(data=samples_TSNE_2D, columns=[\"tsne0\", \"tsne1\"])"
   ]
  },
  {
   "cell_type": "markdown",
   "id": "59332d50-b79a-4b73-bf94-2d468ba8ab00",
   "metadata": {},
   "source": [
    "#### Visualización t-SNE 2D"
   ]
  },
  {
   "cell_type": "code",
   "execution_count": null,
   "id": "645b3218-633d-4ae7-8d50-fa42d0aa5272",
   "metadata": {},
   "outputs": [],
   "source": [
    "title = 'Original data after 2D t-SNE transform'\n",
    "axes_TSNE_2D = {'x': 'tsne0', 'y': 'tsne1'}\n",
    "Plot2D (samples_TSNE_2D, title, axes_TSNE_2D)"
   ]
  },
  {
   "cell_type": "markdown",
   "id": "c0b44ee9-70ed-4a4f-b0c7-159fe251d500",
   "metadata": {},
   "source": [
    "#### DBScan t-SNE 2D"
   ]
  },
  {
   "cell_type": "markdown",
   "id": "7a53c3f2-3e5b-4126-bdf3-576655e4e2ef",
   "metadata": {},
   "source": [
    "##### Modelación Nearest Neighbor"
   ]
  },
  {
   "cell_type": "code",
   "execution_count": null,
   "id": "115905d8-848d-4a44-b165-7a48a8aa62ec",
   "metadata": {},
   "outputs": [],
   "source": [
    "PlotDistancesToKnearestNeighbor(samples_TSNE_2D, 50)"
   ]
  },
  {
   "cell_type": "markdown",
   "id": "c647606c-3ebc-4262-a435-68899c9019e1",
   "metadata": {},
   "source": [
    "##### Epsilons Score Silhouette "
   ]
  },
  {
   "cell_type": "code",
   "execution_count": null,
   "id": "85b7b657-94d3-4f96-85a9-9e365ecb5704",
   "metadata": {},
   "outputs": [],
   "source": [
    "min_samples = 50\n",
    "epsilon_values = [3.9, 4, 4.05, 4.055,4.1, 4.3, 4.5, 4.7, 4.9, 5, 5.2, 5.4, 5.6, 5.8]\n",
    "aux_labels = {}\n",
    "for epsilon in epsilon_values:\n",
    "  aux_labels[epsilon] = ApplyDBScanToData (samples_TSNE_2D, epsilon, min_samples=min_samples)\n",
    "\n",
    "epsilon = 4.05\n",
    "labels_TSNE_2D = aux_labels[epsilon]"
   ]
  },
  {
   "cell_type": "markdown",
   "id": "cf2e7d91-f254-44b7-b54a-5075c02fe568",
   "metadata": {},
   "source": [
    "##### Visualización DBScan"
   ]
  },
  {
   "cell_type": "code",
   "execution_count": null,
   "id": "3e3fb554-c295-41ee-8579-566da0a6cd63",
   "metadata": {},
   "outputs": [],
   "source": [
    "title = f'DBScan(eps={epsilon}, MinPts={min_samples}) over 2D t-SNE transformed data'\n",
    "Plot2D_WithLabels (samples_TSNE_2D, labels_TSNE_2D, title, axes_TSNE_2D)"
   ]
  },
  {
   "cell_type": "markdown",
   "id": "81e9d79e-e42b-4f7a-9986-657b5cb78395",
   "metadata": {},
   "source": [
    "### t-SNE 3D"
   ]
  },
  {
   "cell_type": "markdown",
   "id": "99ccc15a-8644-447e-8796-958c42b05a6a",
   "metadata": {},
   "source": [
    "#### Reducción de Dimensión"
   ]
  },
  {
   "cell_type": "code",
   "execution_count": 67,
   "id": "5f3deda4-97b2-4b6b-99b3-4a67d659edcb",
   "metadata": {},
   "outputs": [],
   "source": [
    "tsne3D = TSNE(n_components=3)\n",
    "samples_TSNE_3D = tsne2D.fit_transform(dataset3)\n",
    "df_samples_TSNE_3D = pd.DataFrame(data=samples_TSNE_3D, columns=[\"tsne0\", \"tsne1\"])"
   ]
  },
  {
   "cell_type": "markdown",
   "id": "3a29d6b3-98f8-4940-99e9-af9e5aca5491",
   "metadata": {},
   "source": [
    "#### Modelación Nearest Neighbor"
   ]
  },
  {
   "cell_type": "code",
   "execution_count": null,
   "id": "0bb870ff-111c-4af6-a4b1-64314ad791f2",
   "metadata": {},
   "outputs": [],
   "source": [
    "PlotDistancesToKnearestNeighbor(samples_TSNE_3D, 100)"
   ]
  },
  {
   "cell_type": "markdown",
   "id": "e3cb5913-5268-4009-8a6e-6b0cc9a5823e",
   "metadata": {},
   "source": [
    "### DBScan t-SNE 3D"
   ]
  },
  {
   "cell_type": "markdown",
   "id": "7d2352ea-59d9-473a-a1fd-e27d929dce07",
   "metadata": {},
   "source": [
    "#### Epsilons Score Silhouette"
   ]
  },
  {
   "cell_type": "code",
   "execution_count": null,
   "id": "3d2a0065-9d8d-497e-a48a-13524d29391a",
   "metadata": {},
   "outputs": [],
   "source": [
    "min_samples = 100\n",
    "epsilon_values = [4.5, 5, 5.5, 5.7, 5.9, 5.95, 6, 6.1, 6.2, 6.3, 6.5, 6.6,6.7, 6.9, 7, 7.5]\n",
    "aux_labels = {}\n",
    "for epsilon in epsilon_values:\n",
    "  aux_labels[epsilon] = ApplyDBScanToData (samples_TSNE_3D, epsilon, min_samples=min_samples)\n",
    "\n",
    "epsilon = 6\n",
    "labels_TSNE_3D = aux_labels[epsilon]"
   ]
  },
  {
   "cell_type": "markdown",
   "id": "56d5a4e8-45da-4598-a9f2-394d74656d58",
   "metadata": {},
   "source": [
    "#### Visualización t-SNE 3D"
   ]
  },
  {
   "cell_type": "code",
   "execution_count": null,
   "id": "defb9a08-292d-4c64-86c9-5a8fe6aac976",
   "metadata": {},
   "outputs": [],
   "source": [
    "title = f'DBScan(eps={epsilon}, MinPts={min_samples}) over 2D t-SNE transformed data'\n",
    "title = 'Original data after 3D t-SNE transform'\n",
    "axes_TSNE_3D = {'x': 'tsne0', 'y': 'tsne1'}\n",
    "Plot2D_WithLabels (samples_TSNE_3D, labels_TSNE_3D, title, axes_TSNE_3D)"
   ]
  },
  {
   "cell_type": "markdown",
   "id": "2f5bccfb-0f0e-40d0-998e-7d0a96543b74",
   "metadata": {},
   "source": [
    "### DBScan\n",
    "\n",
    "#### DBScan - PCA 2D"
   ]
  },
  {
   "cell_type": "code",
   "execution_count": null,
   "id": "69e98110-805a-4e9f-87ef-b397d78efa6b",
   "metadata": {},
   "outputs": [],
   "source": [
    "n_samples = 20\n",
    "PlotDistancesToKnearestNeighbor(df_samples_PCA_2D, n_samples)"
   ]
  },
  {
   "cell_type": "code",
   "execution_count": null,
   "id": "415e431f-13bf-4008-846b-c2248b4e7295",
   "metadata": {
    "scrolled": true
   },
   "outputs": [],
   "source": [
    "epsis = [0.01,0.09]\n",
    "data_epsis = []\n",
    "min_samples = 7\n",
    "\n",
    "for epsilon in epsis:\n",
    "    db = DBSCAN(eps=epsilon, min_samples=min_samples, algorithm=\"ball_tree\", metric='minkowski', leaf_size=90, p=2).fit(df_samples_PCA_2D)\n",
    "    #labels = db.labels_\n",
    "    n_clusters_ = len(set(labels)) - (1 if -1 in labels else 1)\n",
    "    n_noise_ = list(labels).count(-1)\n",
    "    print(f\"\\nTest for epsilon = {epsilon}\")\n",
    "    print('Estimated number of clusters: %d' % n_clusters_)\n",
    "    print('Estimated number of noise points: %d' % n_noise_)\n",
    "    print(\"Silhouette Coefficient: %0.3f\" % silhouette_score(df_samples_PCA_2D, labels))"
   ]
  },
  {
   "cell_type": "markdown",
   "id": "5ce21072-f3c0-4e40-870f-af390a1d9661",
   "metadata": {},
   "source": [
    "#### DBScan - PCA 3D"
   ]
  },
  {
   "cell_type": "code",
   "execution_count": null,
   "id": "caf5ec8a-624b-449d-8445-799b00052d7f",
   "metadata": {},
   "outputs": [],
   "source": [
    "n_samples = 7\n",
    "PlotDistancesToKnearestNeighbor(df_samples_PCA_3D, n_samples)"
   ]
  },
  {
   "cell_type": "code",
   "execution_count": null,
   "id": "7d4970ef-2e5c-411f-86f7-c47d16d4d2c3",
   "metadata": {},
   "outputs": [],
   "source": [
    "epsis = [0.09,0.0945,0.1,0.15,0.16,0.17,0.2]\n",
    "data_epsis = []\n",
    "min_samples = n_samples\n",
    "\n",
    "for epsilon in epsis:\n",
    "    db = DBSCAN(eps=epsilon, min_samples=min_samples, algorithm=\"ball_tree\", leaf_size=90, p=2).fit(df_samples_PCA_3D)\n",
    "    labels = db.labels_\n",
    "    n_clusters_ = len(set(labels)) - (1 if -1 in labels else 1)\n",
    "    n_noise_ = list(labels).count(-1)\n",
    "    print(f\"\\nTest for epsilon = {epsilon}\")\n",
    "    print('Estimated number of clusters: %d' % n_clusters_)\n",
    "    print('Estimated number of noise points: %d' % n_noise_)\n",
    "    print(\"Silhouette Coefficient: %0.3f\" % silhouette_score(df_samples_PCA_3D, labels))"
   ]
  }
 ],
 "metadata": {
  "kernelspec": {
   "display_name": "Python 3",
   "language": "python",
   "name": "python3"
  },
  "language_info": {
   "codemirror_mode": {
    "name": "ipython",
    "version": 3
   },
   "file_extension": ".py",
   "mimetype": "text/x-python",
   "name": "python",
   "nbconvert_exporter": "python",
   "pygments_lexer": "ipython3",
   "version": "3.13.0"
  }
 },
 "nbformat": 4,
 "nbformat_minor": 5
}
